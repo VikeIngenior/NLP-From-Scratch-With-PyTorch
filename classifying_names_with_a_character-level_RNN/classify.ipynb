{
 "cells": [
  {
   "metadata": {
    "ExecuteTime": {
     "end_time": "2024-11-07T08:17:07.015426Z",
     "start_time": "2024-11-07T08:17:07.002008Z"
    }
   },
   "cell_type": "code",
   "source": [
    "from io import open\n",
    "import glob\n",
    "import os"
   ],
   "id": "7adca6506031df8d",
   "outputs": [],
   "execution_count": 1
  },
  {
   "metadata": {
    "ExecuteTime": {
     "end_time": "2024-11-07T08:17:07.053292Z",
     "start_time": "2024-11-07T08:17:07.040331Z"
    }
   },
   "cell_type": "code",
   "source": "data_path = \"C:/Users/kyse1/Desktop/NLPFromScratchWithPytorch/data\"",
   "id": "5e70ed4fc45f0fef",
   "outputs": [],
   "execution_count": 2
  },
  {
   "metadata": {
    "ExecuteTime": {
     "end_time": "2024-11-07T08:17:07.080660Z",
     "start_time": "2024-11-07T08:17:07.073118Z"
    }
   },
   "cell_type": "code",
   "source": [
    "def findFiles(path): return glob.glob(path)\n",
    "\n",
    "print(findFiles(f\"{data_path}/names/*.txt\"))"
   ],
   "id": "a9fecee47af3dfc1",
   "outputs": [
    {
     "name": "stdout",
     "output_type": "stream",
     "text": [
      "['C:/Users/kyse1/Desktop/NLPFromScratchWithPytorch/data/names\\\\Arabic.txt', 'C:/Users/kyse1/Desktop/NLPFromScratchWithPytorch/data/names\\\\Chinese.txt', 'C:/Users/kyse1/Desktop/NLPFromScratchWithPytorch/data/names\\\\Czech.txt', 'C:/Users/kyse1/Desktop/NLPFromScratchWithPytorch/data/names\\\\Dutch.txt', 'C:/Users/kyse1/Desktop/NLPFromScratchWithPytorch/data/names\\\\English.txt', 'C:/Users/kyse1/Desktop/NLPFromScratchWithPytorch/data/names\\\\French.txt', 'C:/Users/kyse1/Desktop/NLPFromScratchWithPytorch/data/names\\\\German.txt', 'C:/Users/kyse1/Desktop/NLPFromScratchWithPytorch/data/names\\\\Greek.txt', 'C:/Users/kyse1/Desktop/NLPFromScratchWithPytorch/data/names\\\\Irish.txt', 'C:/Users/kyse1/Desktop/NLPFromScratchWithPytorch/data/names\\\\Italian.txt', 'C:/Users/kyse1/Desktop/NLPFromScratchWithPytorch/data/names\\\\Japanese.txt', 'C:/Users/kyse1/Desktop/NLPFromScratchWithPytorch/data/names\\\\Korean.txt', 'C:/Users/kyse1/Desktop/NLPFromScratchWithPytorch/data/names\\\\Polish.txt', 'C:/Users/kyse1/Desktop/NLPFromScratchWithPytorch/data/names\\\\Portuguese.txt', 'C:/Users/kyse1/Desktop/NLPFromScratchWithPytorch/data/names\\\\Russian.txt', 'C:/Users/kyse1/Desktop/NLPFromScratchWithPytorch/data/names\\\\Scottish.txt', 'C:/Users/kyse1/Desktop/NLPFromScratchWithPytorch/data/names\\\\Spanish.txt', 'C:/Users/kyse1/Desktop/NLPFromScratchWithPytorch/data/names\\\\Vietnamese.txt']\n"
     ]
    }
   ],
   "execution_count": 3
  },
  {
   "metadata": {
    "ExecuteTime": {
     "end_time": "2024-11-07T08:17:07.511737Z",
     "start_time": "2024-11-07T08:17:07.503707Z"
    }
   },
   "cell_type": "code",
   "source": [
    "import unicodedata\n",
    "import string\n",
    "\n",
    "all_letters = string.ascii_letters + \" .,;'\"\n",
    "n_letters = len(all_letters)"
   ],
   "id": "d557a33dbb3be08",
   "outputs": [],
   "execution_count": 4
  },
  {
   "metadata": {
    "ExecuteTime": {
     "end_time": "2024-11-07T08:17:07.532314Z",
     "start_time": "2024-11-07T08:17:07.519193Z"
    }
   },
   "cell_type": "code",
   "source": [
    "def unicodeToAscii(s):\n",
    "    return ''.join(\n",
    "        c for c in unicodedata.normalize('NFD', s)\n",
    "        if unicodedata.category(c) != 'Mn'\n",
    "        and c in all_letters\n",
    "    )\n",
    "\n",
    "print(unicodeToAscii('Szczęsny'),unicodeToAscii('Ambrož'))"
   ],
   "id": "b9804c4847818a01",
   "outputs": [
    {
     "name": "stdout",
     "output_type": "stream",
     "text": [
      "Szczesny Ambroz\n"
     ]
    }
   ],
   "execution_count": 5
  },
  {
   "metadata": {
    "ExecuteTime": {
     "end_time": "2024-11-07T08:17:07.651707Z",
     "start_time": "2024-11-07T08:17:07.642729Z"
    }
   },
   "cell_type": "code",
   "source": [
    "# See the categories\n",
    "for filename in findFiles(f'{data_path}/names/*.txt'):\n",
    "    print(os.path.splitext(os.path.basename(filename))[0])"
   ],
   "id": "4e2543044fe6b1e4",
   "outputs": [
    {
     "name": "stdout",
     "output_type": "stream",
     "text": [
      "Arabic\n",
      "Chinese\n",
      "Czech\n",
      "Dutch\n",
      "English\n",
      "French\n",
      "German\n",
      "Greek\n",
      "Irish\n",
      "Italian\n",
      "Japanese\n",
      "Korean\n",
      "Polish\n",
      "Portuguese\n",
      "Russian\n",
      "Scottish\n",
      "Spanish\n",
      "Vietnamese\n"
     ]
    }
   ],
   "execution_count": 6
  },
  {
   "metadata": {
    "ExecuteTime": {
     "end_time": "2024-11-07T08:17:07.781549Z",
     "start_time": "2024-11-07T08:17:07.711629Z"
    }
   },
   "cell_type": "code",
   "source": [
    "category_lines = {}\n",
    "all_categories = []\n",
    "\n",
    "def readLines(filename):\n",
    "    lines = open(filename, encoding='utf-8').read().strip().split('\\n')\n",
    "    return [unicodeToAscii(line) for line in lines]\n",
    "\n",
    "for filename in findFiles(f'{data_path}/names/*.txt'):\n",
    "    category = os.path.splitext(os.path.basename(filename))[0]\n",
    "    all_categories.append(category)\n",
    "    lines = readLines(filename)\n",
    "    category_lines[category] = lines\n",
    "    \n",
    "n_categories = len(all_categories)\n",
    "    "
   ],
   "id": "cb946b6836e05515",
   "outputs": [],
   "execution_count": 7
  },
  {
   "metadata": {
    "ExecuteTime": {
     "end_time": "2024-11-07T08:17:07.801291Z",
     "start_time": "2024-11-07T08:17:07.791735Z"
    }
   },
   "cell_type": "code",
   "source": [
    "for language in category_lines:\n",
    "    print(category_lines[language][:5])"
   ],
   "id": "2c62be197257e77e",
   "outputs": [
    {
     "name": "stdout",
     "output_type": "stream",
     "text": [
      "['Khoury', 'Nahas', 'Daher', 'Gerges', 'Nazari']\n",
      "['Ang', 'AuYong', 'Bai', 'Ban', 'Bao']\n",
      "['Abl', 'Adsit', 'Ajdrna', 'Alt', 'Antonowitsch']\n",
      "['Aalsburg', 'Aalst', 'Aarle', 'Achteren', 'Achthoven']\n",
      "['Abbas', 'Abbey', 'Abbott', 'Abdi', 'Abel']\n",
      "['Abel', 'Abraham', 'Adam', 'Albert', 'Allard']\n",
      "['Abbing', 'Abel', 'Abeln', 'Abt', 'Achilles']\n",
      "['Adamidis', 'Adamou', 'Agelakos', 'Akrivopoulos', 'Alexandropoulos']\n",
      "['Adam', 'Ahearn', 'Aodh', 'Aodha', 'Aonghuis']\n",
      "['Abandonato', 'Abatangelo', 'Abatantuono', 'Abate', 'Abategiovanni']\n",
      "['Abe', 'Abukara', 'Adachi', 'Aida', 'Aihara']\n",
      "['Ahn', 'Baik', 'Bang', 'Byon', 'Cha']\n",
      "['Adamczak', 'Adamczyk', 'Andrysiak', 'Auttenberg', 'Bartosz']\n",
      "['Abreu', 'Albuquerque', 'Almeida', 'Alves', 'Araujo']\n",
      "['Ababko', 'Abaev', 'Abagyan', 'Abaidulin', 'Abaidullin']\n",
      "['Smith', 'Brown', 'Wilson', 'Campbell', 'Stewart']\n",
      "['Abana', 'Abano', 'Abarca', 'Abaroa', 'Abascal']\n",
      "['Nguyen', 'Tron', 'Le', 'Pham', 'Huynh']\n"
     ]
    }
   ],
   "execution_count": 8
  },
  {
   "metadata": {},
   "cell_type": "markdown",
   "source": "### Turning Names into Tensors",
   "id": "866cdd917af47709"
  },
  {
   "metadata": {
    "ExecuteTime": {
     "end_time": "2024-11-07T08:17:07.875658Z",
     "start_time": "2024-11-07T08:17:07.862170Z"
    }
   },
   "cell_type": "code",
   "source": "all_letters",
   "id": "9c13a3e271eabad1",
   "outputs": [
    {
     "data": {
      "text/plain": [
       "\"abcdefghijklmnopqrstuvwxyzABCDEFGHIJKLMNOPQRSTUVWXYZ .,;'\""
      ]
     },
     "execution_count": 9,
     "metadata": {},
     "output_type": "execute_result"
    }
   ],
   "execution_count": 9
  },
  {
   "metadata": {
    "ExecuteTime": {
     "end_time": "2024-11-07T08:17:11.096516Z",
     "start_time": "2024-11-07T08:17:07.963630Z"
    }
   },
   "cell_type": "code",
   "source": [
    "import torch\n",
    "\n",
    "# Find letter index from all_letters\n",
    "def letterToIndex(letter): return all_letters.find(letter)\n",
    "\n",
    "# Turn a letter into a <1 x n_letters> Tensor\n",
    "def letterToTensor(letter):\n",
    "    tensor = torch.zeros(1, n_letters)\n",
    "    tensor[0][letterToIndex(letter)] = 1\n",
    "    return tensor\n",
    "\n",
    "# Turn a line into a <line_length x 1 x n_letters> \n",
    "def lineToTensor(line):\n",
    "    tensor = torch.zeros(len(line), 1, n_letters)\n",
    "    for li, letter in enumerate(line):\n",
    "        tensor[li][0][letterToIndex(letter)] = 1\n",
    "    return tensor\n",
    "\n",
    "print(letterToTensor('B'))\n",
    "\n",
    "print(lineToTensor('Erencan').size())"
   ],
   "id": "80dae8e3f075aa6",
   "outputs": [
    {
     "name": "stdout",
     "output_type": "stream",
     "text": [
      "tensor([[0., 0., 0., 0., 0., 0., 0., 0., 0., 0., 0., 0., 0., 0., 0., 0., 0., 0.,\n",
      "         0., 0., 0., 0., 0., 0., 0., 0., 0., 1., 0., 0., 0., 0., 0., 0., 0., 0.,\n",
      "         0., 0., 0., 0., 0., 0., 0., 0., 0., 0., 0., 0., 0., 0., 0., 0., 0., 0.,\n",
      "         0., 0., 0.]])\n",
      "torch.Size([7, 1, 57])\n"
     ]
    }
   ],
   "execution_count": 10
  },
  {
   "metadata": {},
   "cell_type": "markdown",
   "source": [
    "### Creating the Network\n",
    "A Vanilla RNN"
   ],
   "id": "8d5adda0f453b205"
  },
  {
   "metadata": {
    "ExecuteTime": {
     "end_time": "2024-11-07T08:17:11.166704Z",
     "start_time": "2024-11-07T08:17:11.146278Z"
    }
   },
   "cell_type": "code",
   "source": [
    "import torch.nn as nn\n",
    "import torch.nn.functional as F\n",
    "\n",
    "class RNN(nn.Module):\n",
    "    def __init__(self, input_size, hidden_size, output_size):\n",
    "        super(RNN, self).__init__()\n",
    "        \n",
    "        self.hidden_size = hidden_size\n",
    "\n",
    "        self.i2h = nn.Linear(input_size, hidden_size)\n",
    "        self.h2h = nn.Linear(hidden_size, hidden_size)\n",
    "        self.h2o = nn.Linear(hidden_size, output_size)\n",
    "        self.softmax = nn.LogSoftmax(dim=1)\n",
    "        \n",
    "    def forward(self, input, hidden):\n",
    "        hidden = F.tanh(self.i2h(input)) + self.h2h(hidden) # tanh ensures the hidden values stay between -1,1 for stability\n",
    "        output = self.h2o(hidden)\n",
    "        output = self.softmax(output) # produces log-probabilities\n",
    "        return output, hidden\n",
    "    \n",
    "    # That function is called at the start of each sequence\n",
    "    # It initalizes the hidden state to zeros before processing a new sequence\n",
    "    # That ensures that each sequence starts with a fresh, neutral state.\n",
    "    def initHidden(self):\n",
    "        return torch.zeros(1, self.hidden_size) \n",
    "    \n",
    "n_hidden = 128\n",
    "rnn = RNN(n_letters, n_hidden, n_categories)"
   ],
   "id": "aab278166ada976d",
   "outputs": [],
   "execution_count": 11
  },
  {
   "metadata": {
    "ExecuteTime": {
     "end_time": "2024-11-07T08:17:11.215997Z",
     "start_time": "2024-11-07T08:17:11.179054Z"
    }
   },
   "cell_type": "code",
   "source": [
    "input = letterToTensor('A')\n",
    "hidden = torch.zeros(1, n_hidden)\n",
    "\n",
    "output, next_hidden = rnn(input, hidden)\n",
    "output"
   ],
   "id": "c113c75127c2ace2",
   "outputs": [
    {
     "data": {
      "text/plain": [
       "tensor([[-2.9027, -3.0186, -2.9324, -2.9069, -2.8394, -2.9938, -2.9259, -2.7764,\n",
       "         -2.9401, -2.8887, -2.9092, -2.8803, -2.9147, -2.8155, -3.0258, -2.7677,\n",
       "         -2.7794, -2.8601]], grad_fn=<LogSoftmaxBackward0>)"
      ]
     },
     "execution_count": 12,
     "metadata": {},
     "output_type": "execute_result"
    }
   ],
   "execution_count": 12
  },
  {
   "metadata": {
    "ExecuteTime": {
     "end_time": "2024-11-07T08:17:11.279590Z",
     "start_time": "2024-11-07T08:17:11.267185Z"
    }
   },
   "cell_type": "code",
   "source": [
    "input = lineToTensor('Albert')\n",
    "hidden = torch.zeros(1, n_hidden)\n",
    "\n",
    "output, next_hidden = rnn(input[0], hidden)\n",
    "output"
   ],
   "id": "64b2d88bc3f92656",
   "outputs": [
    {
     "data": {
      "text/plain": [
       "tensor([[-2.9027, -3.0186, -2.9324, -2.9069, -2.8394, -2.9938, -2.9259, -2.7764,\n",
       "         -2.9401, -2.8887, -2.9092, -2.8803, -2.9147, -2.8155, -3.0258, -2.7677,\n",
       "         -2.7794, -2.8601]], grad_fn=<LogSoftmaxBackward0>)"
      ]
     },
     "execution_count": 13,
     "metadata": {},
     "output_type": "execute_result"
    }
   ],
   "execution_count": 13
  },
  {
   "metadata": {},
   "cell_type": "markdown",
   "source": "The output is <1 x n_categories> Tensor, where every item is the likelihood of that category (higher is more likely).",
   "id": "e5002efff6b0f3e0"
  },
  {
   "metadata": {},
   "cell_type": "markdown",
   "source": [
    "### Training\n",
    "<br></br>\n",
    "#### Preparing for Training\n"
   ],
   "id": "bcdff90c63f43c3f"
  },
  {
   "metadata": {
    "ExecuteTime": {
     "end_time": "2024-11-07T08:17:11.382406Z",
     "start_time": "2024-11-07T08:17:11.363051Z"
    }
   },
   "cell_type": "code",
   "source": [
    "# Defining some helpful functions\n",
    "\n",
    "# This function gets the index of the greatest value of the likelihood.\n",
    "def categoryFromOutput(output):\n",
    "    top_n, top_i = output.topk(1)\n",
    "    category_i = top_i[0].item()\n",
    "    return all_categories[category_i], category_i\n",
    "\n",
    "categoryFromOutput(output)"
   ],
   "id": "3b7c55eb9957f85d",
   "outputs": [
    {
     "data": {
      "text/plain": [
       "('Scottish', 15)"
      ]
     },
     "execution_count": 14,
     "metadata": {},
     "output_type": "execute_result"
    }
   ],
   "execution_count": 14
  },
  {
   "metadata": {
    "ExecuteTime": {
     "end_time": "2024-11-07T08:17:11.790661Z",
     "start_time": "2024-11-07T08:17:11.780596Z"
    }
   },
   "cell_type": "code",
   "source": [
    "import random\n",
    "# Get quickly a training example with these functions\n",
    "def randomChoice(l):\n",
    "    return l[random.randint(0, len(l)-1)]\n",
    "\n",
    "def randomTrainingExample():\n",
    "    category = randomChoice(all_categories)\n",
    "    line = randomChoice(category_lines[category])\n",
    "    category_tensor = torch.tensor([all_categories.index(category)], dtype=torch.long)\n",
    "    line_tensor = lineToTensor(line)\n",
    "    return category, line, category_tensor, line_tensor\n",
    "\n",
    "for i in range(10):\n",
    "    category, line, category_tensor, line_tensor = randomTrainingExample()\n",
    "    print('category =', category, '/ line =', line)"
   ],
   "id": "3b567b9410d6c4d3",
   "outputs": [
    {
     "name": "stdout",
     "output_type": "stream",
     "text": [
      "category = Scottish / line = Craig\n",
      "category = English / line = Ali\n",
      "category = Czech / line = Hafernik\n",
      "category = French / line = Sergeant\n",
      "category = Korean / line = Jeong\n",
      "category = Japanese / line = Katoaka\n",
      "category = Russian / line = Dzhikaev\n",
      "category = Polish / line = Szwarc\n",
      "category = Italian / line = Rosa\n",
      "category = Czech / line = Perevuznik\n"
     ]
    }
   ],
   "execution_count": 15
  },
  {
   "metadata": {
    "ExecuteTime": {
     "end_time": "2024-11-07T08:17:12.434049Z",
     "start_time": "2024-11-07T08:17:12.427158Z"
    }
   },
   "cell_type": "code",
   "source": [
    "# Training the Network\n",
    "\n",
    "# nn.NLLLoss for loss function. (The negative log likelihood loss)\n",
    "# It is useful to train a classification problem with C classes.\n",
    "criterion = nn.NLLLoss()"
   ],
   "id": "1223a1d628477a87",
   "outputs": [],
   "execution_count": 16
  },
  {
   "metadata": {},
   "cell_type": "markdown",
   "source": [
    "Each loop of training will:\n",
    "\n",
    "<li>Create input and target tensors</li>\n",
    "\n",
    "<li>Create a zeroed initial hidden state</li>\n",
    "\n",
    "<li>Read each letter in and\n",
    "\n",
    "<ul>Keep hidden state for next letter</ul></li>\n",
    "\n",
    "<li>Compare final output to target</li>\n",
    "\n",
    "<li>Back-propagate</li>\n",
    "\n",
    "<li>Return the output and loss</li>"
   ],
   "id": "62dbe58e4dfe3818"
  },
  {
   "metadata": {
    "ExecuteTime": {
     "end_time": "2024-11-07T08:17:12.688773Z",
     "start_time": "2024-11-07T08:17:12.678891Z"
    }
   },
   "cell_type": "code",
   "source": [
    "learning_rate = 0.005\n",
    "def train(category_tensor, line_tensor):\n",
    "    hidden = rnn.initHidden()\n",
    "    \n",
    "    rnn.zero_grad()\n",
    "    \n",
    "    # Forward pass\n",
    "    for i in range(line_tensor.size()[0]):\n",
    "        output, hidden = rnn(line_tensor[i], hidden)\n",
    "        \n",
    "    loss = criterion(output, category_tensor)\n",
    "    loss.backward()\n",
    "    \n",
    "    # Update parameters\n",
    "    for p in rnn.parameters():\n",
    "        p.data.add_(p.grad.data, alpha=-learning_rate)\n",
    "    \n",
    "    return output, loss.item()"
   ],
   "id": "1e3be5be95a8750",
   "outputs": [],
   "execution_count": 17
  },
  {
   "metadata": {
    "ExecuteTime": {
     "end_time": "2024-11-07T08:17:13.025889Z",
     "start_time": "2024-11-07T08:17:13.019637Z"
    }
   },
   "cell_type": "code",
   "source": [
    "import time\n",
    "import math"
   ],
   "id": "e1c2fb03ffff2c5a",
   "outputs": [],
   "execution_count": 18
  },
  {
   "metadata": {
    "ExecuteTime": {
     "end_time": "2024-11-07T08:21:47.552223Z",
     "start_time": "2024-11-07T08:17:13.211816Z"
    }
   },
   "cell_type": "code",
   "source": [
    "n_iters = 100000\n",
    "print_every = 5000\n",
    "plot_every = 1000\n",
    "\n",
    "current_loss = 0\n",
    "all_losses = []\n",
    "\n",
    "def timeSince(since):\n",
    "    now = time.time()\n",
    "    s = now - since\n",
    "    m = math.floor(s / 60)\n",
    "    s -= m * 60\n",
    "    return '%dm %ds' % (m, s)\n",
    "\n",
    "start = time.time()\n",
    "\n",
    "for iter in range(1, n_iters + 1):\n",
    "    category, line, category_tensor, line_tensor = randomTrainingExample()\n",
    "    output, loss = train(category_tensor, line_tensor)\n",
    "    current_loss += loss\n",
    "    \n",
    "    if iter % print_every == 0:\n",
    "        guess, guess_i = categoryFromOutput(output)\n",
    "        correct = '✓' if guess == category else '✗ (%s)' % category\n",
    "        print('%d %d%% (%s) %.4f %s / %s %s' % (iter, iter/n_iters*100, timeSince(start), loss, line, guess, correct))\n",
    "        \n",
    "    if iter % plot_every == 0:\n",
    "        all_losses.append(current_loss / plot_every)\n",
    "        current_loss = 0"
   ],
   "id": "b72701a9aff0b749",
   "outputs": [
    {
     "name": "stdout",
     "output_type": "stream",
     "text": [
      "5000 5% (0m 16s) 1.4990 Sekigawa / Japanese ✓\n",
      "10000 10% (0m 29s) 2.3461 Horn / Vietnamese ✗ (Dutch)\n",
      "15000 15% (0m 41s) 4.5264 Power / German ✗ (Irish)\n",
      "20000 20% (1m 2s) 0.5223 Kuwabara / Japanese ✓\n",
      "25000 25% (1m 14s) 0.2483 Kedzierski / Polish ✓\n",
      "30000 30% (1m 27s) 0.7528 Chavarria / Spanish ✓\n",
      "35000 35% (1m 39s) 1.8286 Han / Chinese ✗ (Vietnamese)\n",
      "40000 40% (1m 52s) 0.7268 Williamson / Scottish ✓\n",
      "45000 45% (2m 5s) 1.0808 Adlersflugel / German ✓\n",
      "50000 50% (2m 20s) 2.7887 King / Chinese ✗ (Scottish)\n",
      "55000 55% (2m 34s) 0.8020 Kuai / Chinese ✓\n",
      "60000 60% (2m 47s) 0.9339 Doherty / Irish ✓\n",
      "65000 65% (2m 59s) 0.0550 Chijov / Russian ✓\n",
      "70000 70% (3m 12s) 0.6597 Travert / French ✓\n",
      "75000 75% (3m 25s) 1.5330 Jiang / Korean ✗ (Chinese)\n",
      "80000 80% (3m 40s) 2.6129 Hout / French ✗ (Dutch)\n",
      "85000 85% (3m 53s) 0.5821 Volcik / Czech ✓\n",
      "90000 90% (4m 7s) 0.5210 Gu / Korean ✓\n",
      "95000 95% (4m 21s) 0.0285 Tsukahara / Japanese ✓\n",
      "100000 100% (4m 34s) 1.9051 Kranz / German ✗ (Dutch)\n"
     ]
    }
   ],
   "execution_count": 19
  },
  {
   "metadata": {
    "ExecuteTime": {
     "end_time": "2024-11-07T08:21:49.827543Z",
     "start_time": "2024-11-07T08:21:47.569823Z"
    }
   },
   "cell_type": "code",
   "source": [
    "import matplotlib.pyplot as plt\n",
    "import matplotlib.ticker as ticker\n",
    "plt.figure()\n",
    "plt.plot(all_losses)"
   ],
   "id": "3f4ff9f6b4b1aada",
   "outputs": [
    {
     "data": {
      "text/plain": [
       "[<matplotlib.lines.Line2D at 0x1b6c8efef60>]"
      ]
     },
     "execution_count": 20,
     "metadata": {},
     "output_type": "execute_result"
    },
    {
     "data": {
      "text/plain": [
       "<Figure size 640x480 with 1 Axes>"
      ],
      "image/png": "[encoded data removed]"
     },
     "metadata": {},
     "output_type": "display_data"
    }
   ],
   "execution_count": 20
  },
  {
   "metadata": {
    "ExecuteTime": {
     "end_time": "2024-11-07T08:22:02.902371Z",
     "start_time": "2024-11-07T08:21:49.844859Z"
    }
   },
   "cell_type": "code",
   "source": [
    "# Evaluating the Results\n",
    "\n",
    "confusion = torch.zeros(n_categories, n_categories)\n",
    "n_confusion = 10000\n",
    "\n",
    "def evaluate(line_tensor):\n",
    "    hidden = rnn.initHidden()\n",
    "    \n",
    "    for i in range(line_tensor.size()[0]):\n",
    "        output, hidden = rnn(line_tensor[i], hidden)\n",
    "        \n",
    "    return output\n",
    "\n",
    "for i in range(n_confusion):\n",
    "    category, line, category_tensor, line_tensor = randomTrainingExample()\n",
    "    output = evaluate(line_tensor)\n",
    "    guess, guess_i = categoryFromOutput(output)\n",
    "    category_i = all_categories.index(category)\n",
    "    confusion[category_i][guess_i] += 1\n",
    "    \n",
    "for i in range(n_categories):\n",
    "    confusion[i] = confusion[i] / confusion[i].sum()\n",
    "    \n",
    "fig = plt.figure()\n",
    "ax = fig.add_subplot(111)\n",
    "cax = ax.matshow(confusion.numpy())\n",
    "fig.colorbar(cax)\n",
    "\n",
    "ax.set_xticklabels([''] + all_categories, rotation=90)\n",
    "ax.set_yticklabels([''] + all_categories)\n",
    "\n",
    "ax.xaxis.set_major_locator(ticker.MultipleLocator(1))\n",
    "ax.yaxis.set_major_locator(ticker.MultipleLocator(1))\n",
    "\n",
    "plt.show()"
   ],
   "id": "858e027b6569a12a",
   "outputs": [
    {
     "name": "stderr",
     "output_type": "stream",
     "text": [
      "C:\\Users\\kyse1\\AppData\\Local\\Temp\\ipykernel_26696\\464984402.py:29: UserWarning: set_ticklabels() should only be used with a fixed number of ticks, i.e. after set_ticks() or using a FixedLocator.\n",
      "  ax.set_xticklabels([''] + all_categories, rotation=90)\n",
      "C:\\Users\\kyse1\\AppData\\Local\\Temp\\ipykernel_26696\\464984402.py:30: UserWarning: set_ticklabels() should only be used with a fixed number of ticks, i.e. after set_ticks() or using a FixedLocator.\n",
      "  ax.set_yticklabels([''] + all_categories)\n"
     ]
    },
    {
     "data": {
      "text/plain": [
       "<Figure size 640x480 with 2 Axes>"
      ],
      "image/png": "[encoded data removed]"
     },
     "metadata": {},
     "output_type": "display_data"
    }
   ],
   "execution_count": 21
  },
  {
   "metadata": {},
   "cell_type": "markdown",
   "source": "### Running on User Input",
   "id": "f73353973b1cf39b"
  },
  {
   "metadata": {
    "ExecuteTime": {
     "end_time": "2024-11-07T08:27:58.960582Z",
     "start_time": "2024-11-07T08:27:58.942814Z"
    }
   },
   "cell_type": "code",
   "source": [
    "def predict (input_line, n_predictions=3):\n",
    "    print(\"\\n> %s\" % input_line)\n",
    "    \n",
    "    with torch.no_grad():\n",
    "        output = evaluate(lineToTensor(input_line))\n",
    "        \n",
    "        # Top N categories\n",
    "        topv, topi = output.topk(n_predictions, 1, True)\n",
    "        predictions = []\n",
    "        \n",
    "        for i in range(n_predictions):\n",
    "            value = topv[0][i].item()\n",
    "            category_index = topi[0][i].item()\n",
    "            print('(%.2f) %s' % (value, all_categories[category_index]))\n",
    "            predictions.append([value, all_categories[category_index]])"
   ],
   "id": "a561bcfcf0df12e3",
   "outputs": [],
   "execution_count": 22
  },
  {
   "metadata": {
    "ExecuteTime": {
     "end_time": "2024-11-07T08:29:24.983933Z",
     "start_time": "2024-11-07T08:29:24.969197Z"
    }
   },
   "cell_type": "code",
   "source": [
    "predict('Conor')\n",
    "predict('Harald')\n",
    "predict('Schmuaer')\n",
    "predict('Gekas')\n",
    "predict('Yao')"
   ],
   "id": "367449dc70006a99",
   "outputs": [
    {
     "name": "stdout",
     "output_type": "stream",
     "text": [
      "\n",
      "> Conor\n",
      "(-1.64) Irish\n",
      "(-1.84) Greek\n",
      "(-1.99) French\n",
      "\n",
      "> Harald\n",
      "(-1.03) Scottish\n",
      "(-1.51) English\n",
      "(-1.75) Arabic\n",
      "\n",
      "> Schmuaer\n",
      "(-1.08) German\n",
      "(-1.27) Dutch\n",
      "(-1.95) Vietnamese\n",
      "\n",
      "> Gekas\n",
      "(-0.85) Arabic\n",
      "(-1.05) Greek\n",
      "(-2.42) Scottish\n",
      "\n",
      "> Yao\n",
      "(-0.28) Chinese\n",
      "(-1.61) Korean\n",
      "(-3.39) Vietnamese\n"
     ]
    }
   ],
   "execution_count": 27
  },
  {
   "metadata": {},
   "cell_type": "code",
   "outputs": [],
   "execution_count": null,
   "source": "",
   "id": "e447c554834307dc"
  }
 ],
 "metadata": {
  "kernelspec": {
   "display_name": "Python 3",
   "language": "python",
   "name": "python3"
  },
  "language_info": {
   "codemirror_mode": {
    "name": "ipython",
    "version": 2
   },
   "file_extension": ".py",
   "mimetype": "text/x-python",
   "name": "python",
   "nbconvert_exporter": "python",
   "pygments_lexer": "ipython2",
   "version": "2.7.6"
  }
 },
 "nbformat": 4,
 "nbformat_minor": 5
}
